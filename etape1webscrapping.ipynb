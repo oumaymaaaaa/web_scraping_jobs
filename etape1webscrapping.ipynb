{
 "cells": [
  {
   "cell_type": "markdown",
   "metadata": {},
   "source": [
    "\n",
    "\n",
    "# Project : Web Scraping offre d'emploi"
   ]
  },
  {
   "cell_type": "markdown",
   "metadata": {},
   "source": []
  },
  {
   "cell_type": "code",
   "execution_count": 1,
   "metadata": {},
   "outputs": [],
   "source": [
    "import numpy as np\n",
    "import os\n",
    "import pandas as pd\n",
    "import requests\n",
    "from selenium import webdriver\n",
    "from selenium.webdriver.common.keys import Keys\n",
    "import urllib\n",
    "\n",
    "from bs4 import BeautifulSoup\n",
    "from time import sleep"
   ]
  },
  {
   "cell_type": "markdown",
   "metadata": {},
   "source": [
    "### 1.1 Faire le scraping de liens avec les mots clés data scientist et data science: \n",
    "Source: https://www.mycareersfuture.sg"
   ]
  },
  {
   "cell_type": "code",
   "execution_count": 2,
   "metadata": {},
   "outputs": [],
   "source": [
    "links = [\n",
    "    \"https://www.mycareersfuture.sg/search?search=data%20scientist&page={}\",\n",
    "    \n",
    " \n",
    "]\n",
    "\n",
    "job_postings = []\n",
    "\n",
    "for link in links:\n",
    "    for pages in range(0, 30 + 1):\n",
    "        driver = webdriver.Edge(executable_path=\"C:\\Windows\\msedgedriver\")\n",
    "\n",
    "        driver.get(link.format(pages))\n",
    "\n",
    "        sleep(5)\n",
    "\n",
    "        html = BeautifulSoup(driver.page_source, \"lxml\")\n",
    "\n",
    "        for job_card in html.find_all(\n",
    "            \"div\", id=lambda x: x and x.startswith(\"job-card-\")\n",
    "        ):\n",
    "            job_postings.append(\n",
    "                \"https://www.mycareersfuture.sg\" + job_card.find(\"a\")[\"href\"]\n",
    "            )\n",
    "\n",
    "        driver.close()"
   ]
  },
  {
   "cell_type": "code",
   "execution_count": 7,
   "metadata": {},
   "outputs": [],
   "source": [
    "#Removing duplicate links\n",
    "job_postings = list(dict.fromkeys(job_postings))"
   ]
  },
  {
   "cell_type": "code",
   "execution_count": 8,
   "metadata": {},
   "outputs": [
    {
     "data": {
      "text/plain": [
       "226"
      ]
     },
     "execution_count": 8,
     "metadata": {},
     "output_type": "execute_result"
    }
   ],
   "source": [
    "len(job_postings)\n",
    "# Close to requirement for at least 1,000 job listings. Moving to next stage"
   ]
  },
  {
   "cell_type": "markdown",
   "metadata": {},
   "source": [
    "### 1.2 Création de fichier CSV avec job listings"
   ]
  },
  {
   "cell_type": "code",
   "execution_count": 9,
   "metadata": {},
   "outputs": [],
   "source": [
    "company = []\n",
    "title = []\n",
    "salary = []\n",
    "responsibilities = []\n",
    "requirements = []\n",
    "seniority = []\n",
    "employment_type = []\n",
    "category = []\n",
    "address = []\n",
    "failed_url = []\n",
    "\n",
    "driver = webdriver.Edge(executable_path=\"C:\\Windows\\msedgedriver\")\n",
    "\n",
    "for index, link in enumerate(job_postings):\n",
    "\n",
    "    try:\n",
    "        driver.get(link)\n",
    "        sleep(3)\n",
    "        job_page = driver.page_source\n",
    "\n",
    "        soup = BeautifulSoup(job_page, \"lxml\")\n",
    "\n",
    "        company.append(soup.find(\"p\", {\"name\": \"company\"}))\n",
    "        title.append(soup.find(\"h1\", {\"id\": \"job_title\"}))\n",
    "        salary.append(soup.find(\"div\", {\"class\": \"lh-solid\"}))\n",
    "        responsibilities.append(soup.find(\"div\", {\"id\": \"job_description\"}))\n",
    "        requirements.append(soup.find(\"div\", {\"id\": \"requirements\"}))\n",
    "        seniority.append(soup.find(\"p\", {\"id\": \"seniority\"}))\n",
    "        employment_type.append(soup.find(\"p\", {\"id\": \"employment_type\"}))\n",
    "        category.append(soup.find(\"p\", {\"id\": \"job-categories\"}))\n",
    "        address.append(soup.find(\"p\", {\"id\": \"address\"}))\n",
    "\n",
    "    except:\n",
    "        failed_url.append(link)"
   ]
  },
  {
   "cell_type": "code",
   "execution_count": 11,
   "metadata": {},
   "outputs": [],
   "source": [
    "raw = [company, title, salary, responsibilities, requirements, seniority, employment_type, category, address]"
   ]
  },
  {
   "cell_type": "code",
   "execution_count": 12,
   "metadata": {},
   "outputs": [],
   "source": [
    "clean = {}\n",
    "\n",
    "for index, items in enumerate(raw):\n",
    "    clean[index] = []\n",
    "    for elements in items:\n",
    "        try:\n",
    "            clean[index].append(elements.text)\n",
    "        except:\n",
    "            clean[index].append(None)"
   ]
  },
  {
   "cell_type": "code",
   "execution_count": 13,
   "metadata": {},
   "outputs": [],
   "source": [
    "data_jobs = pd.DataFrame(clean)"
   ]
  },
  {
   "cell_type": "code",
   "execution_count": 16,
   "metadata": {},
   "outputs": [],
   "source": [
    "data_jobs.columns = [\n",
    "    \"Company\",\n",
    "    \"Title\",\n",
    "    \"Salary_Range\",\n",
    "    \"Responsibilities\",\n",
    "    \"Requirements\",\n",
    "    \"Seniority\",\n",
    "    \"Employment_Type\",\n",
    "    \"Category\",\n",
    "    \"Address\",\n",
    "]"
   ]
  },
  {
   "cell_type": "code",
   "execution_count": 17,
   "metadata": {},
   "outputs": [
    {
     "data": {
      "text/html": [
       "<div>\n",
       "<style scoped>\n",
       "    .dataframe tbody tr th:only-of-type {\n",
       "        vertical-align: middle;\n",
       "    }\n",
       "\n",
       "    .dataframe tbody tr th {\n",
       "        vertical-align: top;\n",
       "    }\n",
       "\n",
       "    .dataframe thead th {\n",
       "        text-align: right;\n",
       "    }\n",
       "</style>\n",
       "<table border=\"1\" class=\"dataframe\">\n",
       "  <thead>\n",
       "    <tr style=\"text-align: right;\">\n",
       "      <th></th>\n",
       "      <th>Company</th>\n",
       "      <th>Title</th>\n",
       "      <th>Salary_Range</th>\n",
       "      <th>Responsibilities</th>\n",
       "      <th>Requirements</th>\n",
       "      <th>Seniority</th>\n",
       "      <th>Employment_Type</th>\n",
       "      <th>Category</th>\n",
       "      <th>Address</th>\n",
       "    </tr>\n",
       "  </thead>\n",
       "  <tbody>\n",
       "    <tr>\n",
       "      <th>0</th>\n",
       "      <td>None</td>\n",
       "      <td>Data Scientist</td>\n",
       "      <td>$1 400to$1 400</td>\n",
       "      <td>Roles &amp; ResponsibilitiesResponsibilities\\n● De...</td>\n",
       "      <td>None</td>\n",
       "      <td>Fresh/entry level</td>\n",
       "      <td>Internship/Attachment</td>\n",
       "      <td>Banking and Finance, Information Technology</td>\n",
       "      <td>410 NORTH BRIDGE ROAD 188726</td>\n",
       "    </tr>\n",
       "    <tr>\n",
       "      <th>1</th>\n",
       "      <td>None</td>\n",
       "      <td>Senior Data Scientist  /  Data Scientist</td>\n",
       "      <td>$9 500to$12 500</td>\n",
       "      <td>Roles &amp; ResponsibilitiesAre you passionate abo...</td>\n",
       "      <td>None</td>\n",
       "      <td>Professional</td>\n",
       "      <td>Permanent, Full Time</td>\n",
       "      <td>Engineering</td>\n",
       "      <td>AIRLINE HOUSE, 25 AIRLINE ROAD 819829</td>\n",
       "    </tr>\n",
       "    <tr>\n",
       "      <th>2</th>\n",
       "      <td>None</td>\n",
       "      <td>Lead Data Scientist, Risk Data Mining, BRIC</td>\n",
       "      <td>$14 000to$28 000</td>\n",
       "      <td>Roles &amp; ResponsibilitiesTikTok is the leading ...</td>\n",
       "      <td>None</td>\n",
       "      <td>Professional</td>\n",
       "      <td>Full Time</td>\n",
       "      <td>Information Technology</td>\n",
       "      <td>1 RAFFLES QUAY 048583</td>\n",
       "    </tr>\n",
       "    <tr>\n",
       "      <th>3</th>\n",
       "      <td>None</td>\n",
       "      <td>Data Scientist</td>\n",
       "      <td>$7 500to$9 500</td>\n",
       "      <td>Roles &amp; ResponsibilitiesAre you passionate abo...</td>\n",
       "      <td>None</td>\n",
       "      <td>Professional</td>\n",
       "      <td>Permanent, Full Time</td>\n",
       "      <td>Engineering</td>\n",
       "      <td>AIRLINE HOUSE, 25 AIRLINE ROAD 819829</td>\n",
       "    </tr>\n",
       "    <tr>\n",
       "      <th>4</th>\n",
       "      <td>None</td>\n",
       "      <td>Senior Data Scientist</td>\n",
       "      <td>$8 000to$16 000</td>\n",
       "      <td>Roles &amp; ResponsibilitiesPrincipal Responsibili...</td>\n",
       "      <td>None</td>\n",
       "      <td>Professional</td>\n",
       "      <td>Full Time</td>\n",
       "      <td>Banking and Finance</td>\n",
       "      <td>20 Pasir  Panjang Rd., Mapletree Bus. City 117439</td>\n",
       "    </tr>\n",
       "  </tbody>\n",
       "</table>\n",
       "</div>"
      ],
      "text/plain": [
       "  Company                                        Title      Salary_Range  \\\n",
       "0    None                               Data Scientist    $1 400to$1 400   \n",
       "1    None     Senior Data Scientist  /  Data Scientist   $9 500to$12 500   \n",
       "2    None  Lead Data Scientist, Risk Data Mining, BRIC  $14 000to$28 000   \n",
       "3    None                               Data Scientist    $7 500to$9 500   \n",
       "4    None                        Senior Data Scientist   $8 000to$16 000   \n",
       "\n",
       "                                    Responsibilities Requirements  \\\n",
       "0  Roles & ResponsibilitiesResponsibilities\\n● De...         None   \n",
       "1  Roles & ResponsibilitiesAre you passionate abo...         None   \n",
       "2  Roles & ResponsibilitiesTikTok is the leading ...         None   \n",
       "3  Roles & ResponsibilitiesAre you passionate abo...         None   \n",
       "4  Roles & ResponsibilitiesPrincipal Responsibili...         None   \n",
       "\n",
       "           Seniority        Employment_Type  \\\n",
       "0  Fresh/entry level  Internship/Attachment   \n",
       "1       Professional   Permanent, Full Time   \n",
       "2       Professional              Full Time   \n",
       "3       Professional   Permanent, Full Time   \n",
       "4       Professional              Full Time   \n",
       "\n",
       "                                      Category  \\\n",
       "0  Banking and Finance, Information Technology   \n",
       "1                                  Engineering   \n",
       "2                       Information Technology   \n",
       "3                                  Engineering   \n",
       "4                          Banking and Finance   \n",
       "\n",
       "                                             Address  \n",
       "0                       410 NORTH BRIDGE ROAD 188726  \n",
       "1              AIRLINE HOUSE, 25 AIRLINE ROAD 819829  \n",
       "2                              1 RAFFLES QUAY 048583  \n",
       "3              AIRLINE HOUSE, 25 AIRLINE ROAD 819829  \n",
       "4  20 Pasir  Panjang Rd., Mapletree Bus. City 117439  "
      ]
     },
     "execution_count": 17,
     "metadata": {},
     "output_type": "execute_result"
    }
   ],
   "source": [
    "data_jobs.head()"
   ]
  },
  {
   "cell_type": "code",
   "execution_count": 23,
   "metadata": {},
   "outputs": [],
   "source": [
    "data_jobs = data_jobs.to_csv('jobs.csv')"
   ]
  },
  {
   "cell_type": "code",
   "execution_count": null,
   "metadata": {},
   "outputs": [],
   "source": []
  },
  {
   "cell_type": "markdown",
   "metadata": {},
   "source": [
    "### DATA CLEANING AND EDA TO BE CONTINUED IN 2.0-cch-project4-EDA"
   ]
  }
 ],
 "metadata": {
  "kernelspec": {
   "display_name": "Python 3 (ipykernel)",
   "language": "python",
   "name": "python3"
  },
  "language_info": {
   "codemirror_mode": {
    "name": "ipython",
    "version": 3
   },
   "file_extension": ".py",
   "mimetype": "text/x-python",
   "name": "python",
   "nbconvert_exporter": "python",
   "pygments_lexer": "ipython3",
   "version": "3.9.7"
  }
 },
 "nbformat": 4,
 "nbformat_minor": 2
}
